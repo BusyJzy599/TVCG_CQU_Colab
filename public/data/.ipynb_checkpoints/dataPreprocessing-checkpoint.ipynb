{
 "cells": [
  {
   "cell_type": "code",
   "execution_count": 35,
   "id": "bbe19639",
   "metadata": {},
   "outputs": [],
   "source": [
    "import os\n",
    "import numpy as np\n",
    "\n",
    "file_dir = \"./2\"\n",
    "Files=[]\n",
    "X=[]\n",
    "Y=[]\n",
    "for root, dirs, files in os.walk(file_dir, topdown=False):\n",
    "    Files=files\n",
    "\n",
    "for f in Files:\n",
    "    ff=f.split(\"_\")\n",
    "    X.append(int(ff[0][1:]))\n",
    "    Y.append(int(ff[1][1:]))"
   ]
  },
  {
   "cell_type": "code",
   "execution_count": 36,
   "id": "6f58c71d",
   "metadata": {},
   "outputs": [],
   "source": [
    "X=[(x-1)/50 for x in X]\n",
    "Y=[(x-1)/50 for x in Y]"
   ]
  },
  {
   "cell_type": "code",
   "execution_count": 37,
   "id": "9abe3049",
   "metadata": {},
   "outputs": [
    {
     "data": {
      "text/plain": [
       "1745"
      ]
     },
     "execution_count": 37,
     "metadata": {},
     "output_type": "execute_result"
    }
   ],
   "source": [
    "len(X)"
   ]
  },
  {
   "cell_type": "code",
   "execution_count": 38,
   "id": "3842ffe3",
   "metadata": {},
   "outputs": [
    {
     "data": {
      "text/plain": [
       "1745"
      ]
     },
     "execution_count": 38,
     "metadata": {},
     "output_type": "execute_result"
    }
   ],
   "source": [
    "len(Y)"
   ]
  },
  {
   "cell_type": "code",
   "execution_count": 39,
   "id": "96011dc5",
   "metadata": {},
   "outputs": [],
   "source": [
    "valid_index=[]\n",
    "for i in range(1745):\n",
    "    valid_index.append([int(X[i]),int(Y[i])])"
   ]
  },
  {
   "cell_type": "code",
   "execution_count": 42,
   "id": "268f8434",
   "metadata": {},
   "outputs": [],
   "source": [
    "import pandas as pd"
   ]
  },
  {
   "cell_type": "code",
   "execution_count": 121,
   "id": "7673c954",
   "metadata": {},
   "outputs": [
    {
     "data": {
      "text/plain": [
       "array([0.38309862, 1.1106002 , 0.87031137, 0.53004969, 0.67459509])"
      ]
     },
     "execution_count": 121,
     "metadata": {},
     "output_type": "execute_result"
    }
   ],
   "source": [
    "np.random.normal(0.5,0.3)"
   ]
  },
  {
   "cell_type": "markdown",
   "id": "77f0e099",
   "metadata": {},
   "source": [
    "X:0-72 Y:0-56"
   ]
  },
  {
   "cell_type": "code",
   "execution_count": 41,
   "id": "c547d7b0",
   "metadata": {},
   "outputs": [],
   "source": [
    "pd.DataFrame(valid_index).to_csv(\"validIndex.csv\",index=False)"
   ]
  },
  {
   "cell_type": "code",
   "execution_count": null,
   "id": "e76cd187",
   "metadata": {},
   "outputs": [],
   "source": []
  }
 ],
 "metadata": {
  "kernelspec": {
   "display_name": "Python 3",
   "language": "python",
   "name": "python3"
  },
  "language_info": {
   "codemirror_mode": {
    "name": "ipython",
    "version": 3
   },
   "file_extension": ".py",
   "mimetype": "text/x-python",
   "name": "python",
   "nbconvert_exporter": "python",
   "pygments_lexer": "ipython3",
   "version": "3.9.2"
  }
 },
 "nbformat": 4,
 "nbformat_minor": 5
}
