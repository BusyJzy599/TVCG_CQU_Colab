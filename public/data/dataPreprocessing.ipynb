{
 "cells": [
  {
   "cell_type": "code",
   "execution_count": 129,
   "id": "bbe19639",
   "metadata": {},
   "outputs": [],
   "source": [
    "import os\n",
    "import numpy as np\n",
    "\n",
    "file_dir = \"./2\"\n",
    "Files=[]\n",
    "X=[]\n",
    "Y=[]\n",
    "for root, dirs, files in os.walk(file_dir, topdown=False):\n",
    "    Files=files\n",
    "\n",
    "for f in Files:\n",
    "    ff=f.split(\"_\")\n",
    "    X.append(int(ff[0][1:]))\n",
    "    Y.append(int(ff[1][1:]))"
   ]
  },
  {
   "cell_type": "code",
   "execution_count": 130,
   "id": "9b386770",
   "metadata": {},
   "outputs": [],
   "source": [
    "X=[(x-1)/50 for x in X]\n",
    "Y=[(x-1)/50 for x in Y]"
   ]
  },
  {
   "cell_type": "code",
   "execution_count": 131,
   "id": "247e10aa",
   "metadata": {},
   "outputs": [
    {
     "data": {
      "text/plain": [
       "1745"
      ]
     },
     "execution_count": 131,
     "metadata": {},
     "output_type": "execute_result"
    }
   ],
   "source": [
    "len(X)"
   ]
  },
  {
   "cell_type": "code",
   "execution_count": 132,
   "id": "fdfc4d86",
   "metadata": {},
   "outputs": [
    {
     "data": {
      "text/plain": [
       "1745"
      ]
     },
     "execution_count": 132,
     "metadata": {},
     "output_type": "execute_result"
    }
   ],
   "source": [
    "len(Y)"
   ]
  },
  {
   "cell_type": "code",
   "execution_count": 133,
   "id": "165df304",
   "metadata": {},
   "outputs": [],
   "source": [
    "import pandas as pd"
   ]
  },
  {
   "cell_type": "code",
   "execution_count": 134,
   "id": "65f835f6",
   "metadata": {},
   "outputs": [],
   "source": [
    "score=[]\n",
    "while len(score)<1745:\n",
    "    l=np.random.normal(0.5,0.4)\n",
    "    if(l>0 and l<1):\n",
    "        score.append(l)\n",
    "valid_index=[]\n",
    "for i in range(1745):\n",
    "    valid_index.append([int(X[i]),int(Y[i]),round(score[i],2)])"
   ]
  },
  {
   "cell_type": "code",
   "execution_count": 135,
   "id": "e7668c53",
   "metadata": {},
   "outputs": [
    {
     "data": {
      "text/plain": [
       "1745"
      ]
     },
     "execution_count": 135,
     "metadata": {},
     "output_type": "execute_result"
    }
   ],
   "source": [
    "len(valid_index)"
   ]
  },
  {
   "cell_type": "markdown",
   "id": "4b8c2c98",
   "metadata": {},
   "source": [
    "X:0-72 Y:0-56"
   ]
  },
  {
   "cell_type": "code",
   "execution_count": 136,
   "id": "c547d7b0",
   "metadata": {},
   "outputs": [],
   "source": [
    "pd.DataFrame(valid_index).to_csv(\"validIndex.csv\",index=False)"
   ]
  },
  {
   "cell_type": "code",
   "execution_count": null,
   "id": "1772b6fe",
   "metadata": {},
   "outputs": [],
   "source": []
  }
 ],
 "metadata": {
  "kernelspec": {
   "display_name": "Python 3",
   "language": "python",
   "name": "python3"
  },
  "language_info": {
   "codemirror_mode": {
    "name": "ipython",
    "version": 3
   },
   "file_extension": ".py",
   "mimetype": "text/x-python",
   "name": "python",
   "nbconvert_exporter": "python",
   "pygments_lexer": "ipython3",
   "version": "3.9.2"
  }
 },
 "nbformat": 4,
 "nbformat_minor": 5
}
